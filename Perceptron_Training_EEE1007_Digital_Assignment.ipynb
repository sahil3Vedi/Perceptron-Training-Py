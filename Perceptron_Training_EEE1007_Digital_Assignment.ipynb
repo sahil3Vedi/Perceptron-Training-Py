{
  "nbformat": 4,
  "nbformat_minor": 0,
  "metadata": {
    "colab": {
      "name": "Perceptron Training EEE1007 Digital Assignment.ipynb",
      "version": "0.3.2",
      "provenance": [],
      "collapsed_sections": [],
      "include_colab_link": true
    },
    "kernelspec": {
      "name": "python3",
      "display_name": "Python 3"
    }
  },
  "cells": [
    {
      "cell_type": "markdown",
      "metadata": {
        "id": "view-in-github",
        "colab_type": "text"
      },
      "source": [
        "<a href=\"https://colab.research.google.com/github/sahil3Vedi/Perceptron-Training-Py/blob/master/Perceptron_Training_EEE1007_Digital_Assignment.ipynb\" target=\"_parent\"><img src=\"https://colab.research.google.com/assets/colab-badge.svg\" alt=\"Open In Colab\"/></a>"
      ]
    },
    {
      "cell_type": "code",
      "metadata": {
        "id": "ZdD-S-GbS8cq",
        "colab_type": "code",
        "outputId": "437838ee-837c-4b12-cc1a-2a9006bd1b83",
        "colab": {
          "base_uri": "https://localhost:8080/",
          "height": 833
        }
      },
      "source": [
        "import random\n",
        "\n",
        "#training perceptron\n",
        "\n",
        "dataset_inputs = [[-1,-1,-1],[-1,1,-1],[-1,-1,1],[-1,1,1],[1,-1,-1],[1,1,-1],[1,-1,1],[1,1,1]]\n",
        "dataset_targets = [-1,-1,-1,-1,-1,-1,1,-1]\n",
        "\n",
        "#for x,y in zip(dataset_inputs,dataset_targets):\n",
        "  #print(\"Input: \" + str(x) + \" Target: \" + str(y))\n",
        "  \n",
        "# Single Perceptron Unit will have 3 inputs, 1 bias.\n",
        "\n",
        "class perceptron:\n",
        "  weights = [(0.01*random.randrange(1,5)) for q in range(4)]\n",
        "  bias = 1\n",
        "  inputs = []\n",
        "  target = []\n",
        "  output = 0\n",
        "  def __init__(self):\n",
        "    print(\"Perceptron Initialised\")\n",
        "    print(\"Weights: \" + str(self.weights) + \"\\n\")\n",
        "  \n",
        "  def train(self, n):\n",
        "    for count in range(n):\n",
        "      score = 0\n",
        "      for each_input,its_target in zip(dataset_inputs,dataset_targets):\n",
        "        self.inputs = [self.bias] + each_input\n",
        "        self.target = its_target\n",
        "        self.output = 0\n",
        "        #print(str(self.inputs) + \" ...... \" + str(self.target))\n",
        "        for every_input,every_weight in zip(self.inputs,self.weights):\n",
        "          self.output += every_input*every_weight\n",
        "        self.output = round(self.output, 4)\n",
        "        if self.output>0:\n",
        "          self.output = 1\n",
        "        else:\n",
        "          self.output = -1\n",
        "        #weight updation\n",
        "        if(self.output!=self.target):\n",
        "          dot_product = [self.target*xn for xn in self.inputs]\n",
        "          temp = [h+k for (h,k) in zip(self.weights,dot_product)]\n",
        "          self.weights = temp\n",
        "        else:\n",
        "          score +=1\n",
        "        print(\"Epoch: \" + str(count) + \" Target: \" + str(self.target) + \" Output: \" + str(self.output))\n",
        "      print(\"SCORE: \" + str(score) + \"/8\") \n",
        "      print(\"Weights: \" + str(self.weights) + \"\\n\")\n",
        "      \n",
        "p1 = perceptron()\n",
        "p1.train(4)\n",
        "print(\"Training Stopped\")\n",
        "\n",
        "    "
      ],
      "execution_count": 44,
      "outputs": [
        {
          "output_type": "stream",
          "text": [
            "Perceptron Initialised\n",
            "Weights: [0.04, 0.02, 0.04, 0.04]\n",
            "\n",
            "Epoch: 0 Target: -1 Output: -1\n",
            "Epoch: 0 Target: -1 Output: 1\n",
            "Epoch: 0 Target: -1 Output: 1\n",
            "Epoch: 0 Target: -1 Output: -1\n",
            "Epoch: 0 Target: -1 Output: -1\n",
            "Epoch: 0 Target: -1 Output: 1\n",
            "Epoch: 0 Target: 1 Output: 1\n",
            "Epoch: 0 Target: -1 Output: -1\n",
            "SCORE: 5/8\n",
            "Weights: [-2.96, 1.02, -0.96, 1.04]\n",
            "\n",
            "Epoch: 1 Target: -1 Output: -1\n",
            "Epoch: 1 Target: -1 Output: -1\n",
            "Epoch: 1 Target: -1 Output: -1\n",
            "Epoch: 1 Target: -1 Output: -1\n",
            "Epoch: 1 Target: -1 Output: -1\n",
            "Epoch: 1 Target: -1 Output: -1\n",
            "Epoch: 1 Target: 1 Output: 1\n",
            "Epoch: 1 Target: -1 Output: -1\n",
            "SCORE: 8/8\n",
            "Weights: [-2.96, 1.02, -0.96, 1.04]\n",
            "\n",
            "Epoch: 2 Target: -1 Output: -1\n",
            "Epoch: 2 Target: -1 Output: -1\n",
            "Epoch: 2 Target: -1 Output: -1\n",
            "Epoch: 2 Target: -1 Output: -1\n",
            "Epoch: 2 Target: -1 Output: -1\n",
            "Epoch: 2 Target: -1 Output: -1\n",
            "Epoch: 2 Target: 1 Output: 1\n",
            "Epoch: 2 Target: -1 Output: -1\n",
            "SCORE: 8/8\n",
            "Weights: [-2.96, 1.02, -0.96, 1.04]\n",
            "\n",
            "Epoch: 3 Target: -1 Output: -1\n",
            "Epoch: 3 Target: -1 Output: -1\n",
            "Epoch: 3 Target: -1 Output: -1\n",
            "Epoch: 3 Target: -1 Output: -1\n",
            "Epoch: 3 Target: -1 Output: -1\n",
            "Epoch: 3 Target: -1 Output: -1\n",
            "Epoch: 3 Target: 1 Output: 1\n",
            "Epoch: 3 Target: -1 Output: -1\n",
            "SCORE: 8/8\n",
            "Weights: [-2.96, 1.02, -0.96, 1.04]\n",
            "\n",
            "Training Stopped\n"
          ],
          "name": "stdout"
        }
      ]
    }
  ]
}